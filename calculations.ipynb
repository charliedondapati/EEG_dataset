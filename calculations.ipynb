{
  "nbformat": 4,
  "nbformat_minor": 0,
  "metadata": {
    "colab": {
      "provenance": [],
      "authorship_tag": "ABX9TyPEI8ks+TFqN2eX08l4uz78",
      "include_colab_link": true
    },
    "kernelspec": {
      "name": "python3",
      "display_name": "Python 3"
    },
    "language_info": {
      "name": "python"
    }
  },
  "cells": [
    {
      "cell_type": "markdown",
      "metadata": {
        "id": "view-in-github",
        "colab_type": "text"
      },
      "source": [
        "<a href=\"https://colab.research.google.com/github/charliedondapati/EEG_dataset/blob/master/calculations.ipynb\" target=\"_parent\"><img src=\"https://colab.research.google.com/assets/colab-badge.svg\" alt=\"Open In Colab\"/></a>"
      ]
    },
    {
      "cell_type": "code",
      "execution_count": null,
      "metadata": {
        "colab": {
          "base_uri": "https://localhost:8080/"
        },
        "id": "2KBu433q8Xgb",
        "outputId": "9b8dc06f-bd0e-4ddb-a2e5-0d39fae4a41b"
      },
      "outputs": [
        {
          "output_type": "stream",
          "name": "stdout",
          "text": [
            "Delta: 4\n"
          ]
        }
      ],
      "source": [
        "# 3x2 - 4x +1 = 0\n",
        "\n",
        "b = -4\n",
        "a = 3\n",
        "c = 1\n",
        "\n",
        "d = b**2 - 4*a*c\n",
        "\n",
        "print(f'Delta: {d}')"
      ]
    },
    {
      "cell_type": "code",
      "source": [
        "# an = 10 + 4n -4n +4n\n",
        "#\n",
        "#an = 10 + 4 * n\n",
        "\n",
        "a1 = 14\n",
        "a10 = 50\n",
        "n = 10\n",
        "\n",
        "s10 = ( a1 + a10) * n/2\n",
        "\n",
        "print(f'The sum of the first 10 elements in a sequence: {s10}')\n"
      ],
      "metadata": {
        "colab": {
          "base_uri": "https://localhost:8080/"
        },
        "id": "KfT_1U0U8jhE",
        "outputId": "64c779bc-016a-4cee-cb5d-aa38fe84c7d5"
      },
      "execution_count": null,
      "outputs": [
        {
          "output_type": "stream",
          "name": "stdout",
          "text": [
            "The sum of the first 10 elements in a sequence: 320.0\n"
          ]
        }
      ]
    },
    {
      "cell_type": "code",
      "source": [
        "# an = 8 * 2^n -1\n",
        "\n",
        "a1 = 8\n",
        "a2 = 16\n",
        "\n",
        "r = a2/a1\n",
        "n = 6\n",
        "\n",
        "s6 = a1 * ( 1 - r ** n)/(1 - r)\n",
        "\n",
        "print(f'The sum of the first 6 elements of the sequence is: {s6}')"
      ],
      "metadata": {
        "colab": {
          "base_uri": "https://localhost:8080/"
        },
        "id": "BOpE-JWJAGj7",
        "outputId": "915e5873-4923-480a-fcc8-a52b9ee37888"
      },
      "execution_count": null,
      "outputs": [
        {
          "output_type": "stream",
          "name": "stdout",
          "text": [
            "The sum of the first 6 elements of the sequence is: 504.0\n"
          ]
        }
      ]
    },
    {
      "cell_type": "code",
      "source": [
        "# A = (2,4) , B = (-4, 6)\n",
        "\n",
        "a1 = 2\n",
        "a2 = -4\n",
        "b1 = 4\n",
        "b2 = 6\n",
        "\n",
        "a3 = (a1+a2)/2\n",
        "b3 = (b1+b2)/2\n",
        "\n",
        "md = (a3,b3)\n",
        "\n",
        "print(f'The middle point: {md}')\n"
      ],
      "metadata": {
        "colab": {
          "base_uri": "https://localhost:8080/"
        },
        "id": "MbS43lndCXG_",
        "outputId": "95a4bd14-d133-4246-e331-ad2a587cc93d"
      },
      "execution_count": 5,
      "outputs": [
        {
          "output_type": "stream",
          "name": "stdout",
          "text": [
            "The middle point: (-1.0, 5.0)\n"
          ]
        },
        {
          "output_type": "execute_result",
          "data": {
            "text/plain": [
              "-1.0"
            ]
          },
          "metadata": {},
          "execution_count": 5
        }
      ]
    },
    {
      "cell_type": "code",
      "source": [
        "# A = (3,2) , B = ( -1, -1)\n",
        "\n",
        "a1 = 3\n",
        "a2 = 2\n",
        "\n",
        "b1 = -1\n",
        "b2 = -1\n",
        "\n",
        "a3 = (b1 - a1) ** 2\n",
        "b3 = (b2 - a2) ** 2\n",
        "\n",
        "d = (((b1 - a1) ** 2) + ((b2 - a2) ** 2)) ** (1/2)\n",
        "\n",
        "print(f'The distance between points A and B: {d}')\n",
        "\n"
      ],
      "metadata": {
        "colab": {
          "base_uri": "https://localhost:8080/"
        },
        "id": "JaWRwne8Dy_7",
        "outputId": "5d0199fc-56ca-4348-d9e4-7017b5b42566"
      },
      "execution_count": 23,
      "outputs": [
        {
          "output_type": "stream",
          "name": "stdout",
          "text": [
            "The distance between points A and B: 5.0\n"
          ]
        }
      ]
    },
    {
      "cell_type": "code",
      "source": [
        "# x2+5x+4 =0\n",
        "\n",
        "a = 1\n",
        "b = 5\n",
        "c = 4\n",
        "\n",
        "d = b**2 - 4 * a * c\n",
        "\n",
        "x1 = (-b - d**(1/2)) / (2*a)\n",
        "x2 = (-b + d**(1/2)) / (2*a)\n",
        "\n",
        "print(f'x1 = {x1}')\n",
        "print(f'x2 = {x2}')"
      ],
      "metadata": {
        "colab": {
          "base_uri": "https://localhost:8080/"
        },
        "id": "1BBVm4-CHdp9",
        "outputId": "1269cfbd-3224-4c70-8b1d-85696c6207cd"
      },
      "execution_count": 26,
      "outputs": [
        {
          "output_type": "stream",
          "name": "stdout",
          "text": [
            "x1 = -4.0\n",
            "x2 = -1.0\n"
          ]
        }
      ]
    },
    {
      "cell_type": "code",
      "source": [
        "# geometric series = 4,3, 4.5, 5\n",
        "\n",
        "n = 4\n",
        "g1 = 4\n",
        "g2 = 3\n",
        "g3 = 4.5\n",
        "g4 = 5\n",
        "\n",
        "gm = (g1 * g2 * g3 * g4) ** (1/4)\n",
        "\n",
        "print(f'Geometric average of the given numbers: {gm:.2f}')\n"
      ],
      "metadata": {
        "colab": {
          "base_uri": "https://localhost:8080/"
        },
        "id": "0gH8KtOdIrlp",
        "outputId": "662b07d5-aa2c-4ef4-be10-42ec7236ea07"
      },
      "execution_count": 29,
      "outputs": [
        {
          "output_type": "stream",
          "name": "stdout",
          "text": [
            "Geometric average of the given numbers: 4.05\n"
          ]
        }
      ]
    },
    {
      "cell_type": "code",
      "source": [
        "string = 'PKV-89415-PLN'\n",
        "\n",
        "s = string.split('-')\n",
        "print(s[0]+s[2])\n",
        "\n",
        "c = string[:3]+string[-3:]\n",
        "print(c)\n"
      ],
      "metadata": {
        "colab": {
          "base_uri": "https://localhost:8080/"
        },
        "id": "2NiFF496KPTa",
        "outputId": "01084211-c3aa-44e7-f43f-04329f17d2b1"
      },
      "execution_count": 40,
      "outputs": [
        {
          "output_type": "stream",
          "name": "stdout",
          "text": [
            "PKVPLN\n",
            "PKVPLN\n"
          ]
        }
      ]
    },
    {
      "cell_type": "code",
      "source": [
        "string = '1 0 0 1 0 1'\n",
        "\n",
        "binary = string[::2]\n",
        "decimal_num = int(binary,2)\n",
        "\n",
        "print(f'Number found: {decimal_num}')"
      ],
      "metadata": {
        "colab": {
          "base_uri": "https://localhost:8080/"
        },
        "id": "bR9Wj7CXK8Nf",
        "outputId": "b5f13f74-c91d-4aaa-f262-d882e56c2a16"
      },
      "execution_count": 44,
      "outputs": [
        {
          "output_type": "stream",
          "name": "stdout",
          "text": [
            "Number found: 37\n"
          ]
        }
      ]
    },
    {
      "cell_type": "code",
      "source": [
        "text = '100 days of code'\n",
        "\n",
        "print(text[::-1])"
      ],
      "metadata": {
        "colab": {
          "base_uri": "https://localhost:8080/"
        },
        "id": "YCL04DP2MDRb",
        "outputId": "1cd4f71a-a931-4e0d-8e5c-1dcd6071bde7"
      },
      "execution_count": 45,
      "outputs": [
        {
          "output_type": "stream",
          "name": "stdout",
          "text": [
            "edoc fo syad 001\n"
          ]
        }
      ]
    }
  ]
}